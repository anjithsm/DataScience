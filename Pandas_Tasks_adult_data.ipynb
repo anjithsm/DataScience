{
  "nbformat": 4,
  "nbformat_minor": 0,
  "metadata": {
    "colab": {
      "provenance": [],
      "include_colab_link": true
    },
    "kernelspec": {
      "name": "python3",
      "display_name": "Python 3"
    },
    "language_info": {
      "name": "python"
    }
  },
  "cells": [
    {
      "cell_type": "markdown",
      "metadata": {
        "id": "view-in-github",
        "colab_type": "text"
      },
      "source": [
        "<a href=\"https://colab.research.google.com/github/anjithsm/DataScience/blob/main/Pandas_Tasks_adult_data.ipynb\" target=\"_parent\"><img src=\"https://colab.research.google.com/assets/colab-badge.svg\" alt=\"Open In Colab\"/></a>"
      ]
    },
    {
      "cell_type": "code",
      "execution_count": 3,
      "metadata": {
        "id": "JkDcsOfDRC5o"
      },
      "outputs": [],
      "source": [
        "import pandas as pd"
      ]
    },
    {
      "cell_type": "markdown",
      "source": [
        "read the data"
      ],
      "metadata": {
        "id": "oeZnLikWRDs_"
      }
    },
    {
      "cell_type": "code",
      "source": [
        "df = pd.read_csv('/content/adult_pandas_assignment.csv')\n",
        "print(df.head())"
      ],
      "metadata": {
        "id": "f6v3MFa-RF5i",
        "colab": {
          "base_uri": "https://localhost:8080/"
        },
        "outputId": "c8cbdbcd-8ff8-4cd7-b9d0-829f7c1370ca"
      },
      "execution_count": 4,
      "outputs": [
        {
          "output_type": "stream",
          "name": "stdout",
          "text": [
            "   age  workclass  fnlwgt     education  educational-num      marital-status  \\\n",
            "0   25    Private  226802          11th                7       Never-married   \n",
            "1   38    Private   89814       HS-grad                9  Married-civ-spouse   \n",
            "2   28  Local-gov  336951    Assoc-acdm               12  Married-civ-spouse   \n",
            "3   44    Private  160323  Some-college               10  Married-civ-spouse   \n",
            "4   18          ?  103497  Some-college               10       Never-married   \n",
            "\n",
            "          occupation relationship   race  gender  capital-gain  capital-loss  \\\n",
            "0  Machine-op-inspct    Own-child  Black    Male             0             0   \n",
            "1    Farming-fishing      Husband  White    Male             0             0   \n",
            "2    Protective-serv      Husband  White    Male             0             0   \n",
            "3  Machine-op-inspct      Husband  Black    Male          7688             0   \n",
            "4                  ?    Own-child  White  Female             0             0   \n",
            "\n",
            "   hours-per-week native-country income  \n",
            "0              40  United-States  <=50K  \n",
            "1              50  United-States  <=50K  \n",
            "2              40  United-States   >50K  \n",
            "3              40  United-States   >50K  \n",
            "4              30  United-States  <=50K  \n"
          ]
        }
      ]
    },
    {
      "cell_type": "markdown",
      "source": [
        "Display the first 5 rows of the dataset."
      ],
      "metadata": {
        "id": "M0eR7nLZRGeT"
      }
    },
    {
      "cell_type": "code",
      "source": [
        "print(df.head(5))"
      ],
      "metadata": {
        "id": "hnbbT3PpRHri",
        "colab": {
          "base_uri": "https://localhost:8080/"
        },
        "outputId": "c5b74777-cc8c-46fb-8443-946072233de9"
      },
      "execution_count": 7,
      "outputs": [
        {
          "output_type": "stream",
          "name": "stdout",
          "text": [
            "   age  workclass  fnlwgt     education  educational-num      marital-status  \\\n",
            "0   25    Private  226802          11th                7       Never-married   \n",
            "1   38    Private   89814       HS-grad                9  Married-civ-spouse   \n",
            "2   28  Local-gov  336951    Assoc-acdm               12  Married-civ-spouse   \n",
            "3   44    Private  160323  Some-college               10  Married-civ-spouse   \n",
            "4   18          ?  103497  Some-college               10       Never-married   \n",
            "\n",
            "          occupation relationship   race  gender  capital-gain  capital-loss  \\\n",
            "0  Machine-op-inspct    Own-child  Black    Male             0             0   \n",
            "1    Farming-fishing      Husband  White    Male             0             0   \n",
            "2    Protective-serv      Husband  White    Male             0             0   \n",
            "3  Machine-op-inspct      Husband  Black    Male          7688             0   \n",
            "4                  ?    Own-child  White  Female             0             0   \n",
            "\n",
            "   hours-per-week native-country income  \n",
            "0              40  United-States  <=50K  \n",
            "1              50  United-States  <=50K  \n",
            "2              40  United-States   >50K  \n",
            "3              40  United-States   >50K  \n",
            "4              30  United-States  <=50K  \n"
          ]
        }
      ]
    },
    {
      "cell_type": "markdown",
      "source": [
        "summary of the DataFrame"
      ],
      "metadata": {
        "id": "asqYVwG_RIBb"
      }
    },
    {
      "cell_type": "code",
      "source": [
        "summary = df.describe(include = 'all')\n",
        "print(summary)"
      ],
      "metadata": {
        "id": "cUkEutZLRMia",
        "colab": {
          "base_uri": "https://localhost:8080/"
        },
        "outputId": "f787d9f5-3631-48a4-945b-af6860d89988"
      },
      "execution_count": 10,
      "outputs": [
        {
          "output_type": "stream",
          "name": "stdout",
          "text": [
            "                 age workclass        fnlwgt education  educational-num  \\\n",
            "count   48842.000000     48842  4.884200e+04     48842     48842.000000   \n",
            "unique           NaN         9           NaN        16              NaN   \n",
            "top              NaN   Private           NaN   HS-grad              NaN   \n",
            "freq             NaN     33906           NaN     15784              NaN   \n",
            "mean       38.643585       NaN  1.896641e+05       NaN        10.078089   \n",
            "std        13.710510       NaN  1.056040e+05       NaN         2.570973   \n",
            "min        17.000000       NaN  1.228500e+04       NaN         1.000000   \n",
            "25%        28.000000       NaN  1.175505e+05       NaN         9.000000   \n",
            "50%        37.000000       NaN  1.781445e+05       NaN        10.000000   \n",
            "75%        48.000000       NaN  2.376420e+05       NaN        12.000000   \n",
            "max        90.000000       NaN  1.490400e+06       NaN        16.000000   \n",
            "\n",
            "            marital-status      occupation relationship   race gender  \\\n",
            "count                48842           48842        48842  48842  48842   \n",
            "unique                   7              15            6      5      2   \n",
            "top     Married-civ-spouse  Prof-specialty      Husband  White   Male   \n",
            "freq                 22379            6172        19716  41762  32650   \n",
            "mean                   NaN             NaN          NaN    NaN    NaN   \n",
            "std                    NaN             NaN          NaN    NaN    NaN   \n",
            "min                    NaN             NaN          NaN    NaN    NaN   \n",
            "25%                    NaN             NaN          NaN    NaN    NaN   \n",
            "50%                    NaN             NaN          NaN    NaN    NaN   \n",
            "75%                    NaN             NaN          NaN    NaN    NaN   \n",
            "max                    NaN             NaN          NaN    NaN    NaN   \n",
            "\n",
            "        capital-gain  capital-loss  hours-per-week native-country income  \n",
            "count   48842.000000  48842.000000    48842.000000          48842  48842  \n",
            "unique           NaN           NaN             NaN             42      2  \n",
            "top              NaN           NaN             NaN  United-States  <=50K  \n",
            "freq             NaN           NaN             NaN          43832  37155  \n",
            "mean     1079.067626     87.502314       40.422382            NaN    NaN  \n",
            "std      7452.019058    403.004552       12.391444            NaN    NaN  \n",
            "min         0.000000      0.000000        1.000000            NaN    NaN  \n",
            "25%         0.000000      0.000000       40.000000            NaN    NaN  \n",
            "50%         0.000000      0.000000       40.000000            NaN    NaN  \n",
            "75%         0.000000      0.000000       45.000000            NaN    NaN  \n",
            "max     99999.000000   4356.000000       99.000000            NaN    NaN  \n"
          ]
        }
      ]
    },
    {
      "cell_type": "markdown",
      "source": [
        "descriptive statistics for numeric columns"
      ],
      "metadata": {
        "id": "owO_78hGRPYK"
      }
    },
    {
      "cell_type": "code",
      "source": [
        "summary = df.describe()\n",
        "print(summary)"
      ],
      "metadata": {
        "id": "egJOKtYGRQIW",
        "colab": {
          "base_uri": "https://localhost:8080/"
        },
        "outputId": "e3b405e5-99ea-4f9c-b3cd-7c3f4c09c8db"
      },
      "execution_count": 16,
      "outputs": [
        {
          "output_type": "stream",
          "name": "stdout",
          "text": [
            "                age        fnlwgt  educational-num  capital-gain  \\\n",
            "count  48842.000000  4.884200e+04     48842.000000  48842.000000   \n",
            "mean      38.643585  1.896641e+05        10.078089   1079.067626   \n",
            "std       13.710510  1.056040e+05         2.570973   7452.019058   \n",
            "min       17.000000  1.228500e+04         1.000000      0.000000   \n",
            "25%       28.000000  1.175505e+05         9.000000      0.000000   \n",
            "50%       37.000000  1.781445e+05        10.000000      0.000000   \n",
            "75%       48.000000  2.376420e+05        12.000000      0.000000   \n",
            "max       90.000000  1.490400e+06        16.000000  99999.000000   \n",
            "\n",
            "       capital-loss  hours-per-week  \n",
            "count  48842.000000    48842.000000  \n",
            "mean      87.502314       40.422382  \n",
            "std      403.004552       12.391444  \n",
            "min        0.000000        1.000000  \n",
            "25%        0.000000       40.000000  \n",
            "50%        0.000000       40.000000  \n",
            "75%        0.000000       45.000000  \n",
            "max     4356.000000       99.000000  \n"
          ]
        }
      ]
    },
    {
      "cell_type": "markdown",
      "source": [
        "Display the column names of the DataFrame."
      ],
      "metadata": {
        "id": "3gcgaLEfRSjj"
      }
    },
    {
      "cell_type": "code",
      "source": [
        "print(df.columns)"
      ],
      "metadata": {
        "id": "T5xzlLqtRTYT",
        "colab": {
          "base_uri": "https://localhost:8080/"
        },
        "outputId": "34c2503c-a478-4e6f-deb1-038a361363fa"
      },
      "execution_count": 15,
      "outputs": [
        {
          "output_type": "stream",
          "name": "stdout",
          "text": [
            "Index(['age', 'workclass', 'fnlwgt', 'education', 'educational-num',\n",
            "       'marital-status', 'occupation', 'relationship', 'race', 'gender',\n",
            "       'capital-gain', 'capital-loss', 'hours-per-week', 'native-country',\n",
            "       'income'],\n",
            "      dtype='object')\n"
          ]
        }
      ]
    },
    {
      "cell_type": "markdown",
      "source": [
        "unique values in the 'workclass' column."
      ],
      "metadata": {
        "id": "r-w_MuEvRVyk"
      }
    },
    {
      "cell_type": "code",
      "source": [
        "unique_values = df['capital-gain'].unique\n",
        "print(unique_values)"
      ],
      "metadata": {
        "id": "GE2XirkjRXAc",
        "colab": {
          "base_uri": "https://localhost:8080/"
        },
        "outputId": "bc5b4505-38ca-488e-cc3e-781d869502e0"
      },
      "execution_count": 18,
      "outputs": [
        {
          "output_type": "stream",
          "name": "stdout",
          "text": [
            "<bound method Series.unique of 0            0\n",
            "1            0\n",
            "2            0\n",
            "3         7688\n",
            "4            0\n",
            "         ...  \n",
            "48837        0\n",
            "48838        0\n",
            "48839        0\n",
            "48840        0\n",
            "48841    15024\n",
            "Name: capital-gain, Length: 48842, dtype: int64>\n"
          ]
        }
      ]
    },
    {
      "cell_type": "markdown",
      "source": [
        "Create a new column 'income_binary' where <=50K is 0 and >50K is 1."
      ],
      "metadata": {
        "id": "9lA9RnDCRZYf"
      }
    },
    {
      "cell_type": "code",
      "source": [
        "def categorized_income(income):\n",
        "  if income == '<=50K':\n",
        "    return 0\n",
        "  else:\n",
        "    return 1\n",
        "\n",
        "df['income_binary'] = df['income'].apply(categorized_income)\n",
        "\n",
        "print(df.head())"
      ],
      "metadata": {
        "id": "tcSb1bMLRchy",
        "colab": {
          "base_uri": "https://localhost:8080/"
        },
        "outputId": "5e6b1c3b-09ce-45a0-f550-daff9fcb4212"
      },
      "execution_count": 25,
      "outputs": [
        {
          "output_type": "stream",
          "name": "stdout",
          "text": [
            "   age  workclass  fnlwgt     education  educational-num      marital-status  \\\n",
            "0   25    Private  226802          11th                7       Never-married   \n",
            "1   38    Private   89814       HS-grad                9  Married-civ-spouse   \n",
            "2   28  Local-gov  336951    Assoc-acdm               12  Married-civ-spouse   \n",
            "3   44    Private  160323  Some-college               10  Married-civ-spouse   \n",
            "4   18          ?  103497  Some-college               10       Never-married   \n",
            "\n",
            "          occupation relationship   race  gender  capital-gain  capital-loss  \\\n",
            "0  Machine-op-inspct    Own-child  Black    Male             0             0   \n",
            "1    Farming-fishing      Husband  White    Male             0             0   \n",
            "2    Protective-serv      Husband  White    Male             0             0   \n",
            "3  Machine-op-inspct      Husband  Black    Male          7688             0   \n",
            "4                  ?    Own-child  White  Female             0             0   \n",
            "\n",
            "   hours-per-week native-country income  income_binary  \n",
            "0              40  United-States  <=50K              0  \n",
            "1              50  United-States  <=50K              0  \n",
            "2              40  United-States   >50K              1  \n",
            "3              40  United-States   >50K              1  \n",
            "4              30  United-States  <=50K              0  \n"
          ]
        }
      ]
    },
    {
      "cell_type": "markdown",
      "source": [
        "Create a new column 'age_group' categorizing ages into 'Youth' (< 30), 'Adult' (30-60), and 'Senior' (60+)."
      ],
      "metadata": {
        "id": "OHGJMko4Rc8r"
      }
    },
    {
      "cell_type": "code",
      "source": [
        "def categorized_age(age):\n",
        "  if age < 30:\n",
        "    return 'Youth'\n",
        "  elif age > 30 and age < 60:\n",
        "    return 'Adult'\n",
        "  else:\n",
        "    return 'Senior'\n",
        "\n",
        "df['age_group'] = df['age'].apply(categorized_age)\n",
        "\n",
        "print(df.head())"
      ],
      "metadata": {
        "id": "e3Jb3Cr0ReFT",
        "colab": {
          "base_uri": "https://localhost:8080/"
        },
        "outputId": "5bb433dd-438e-456c-9667-06b6c94b3125"
      },
      "execution_count": 33,
      "outputs": [
        {
          "output_type": "stream",
          "name": "stdout",
          "text": [
            "   age  workclass  fnlwgt     education  educational-num      marital-status  \\\n",
            "0   25    Private  226802          11th                7       Never-married   \n",
            "1   38    Private   89814       HS-grad                9  Married-civ-spouse   \n",
            "2   28  Local-gov  336951    Assoc-acdm               12  Married-civ-spouse   \n",
            "3   44    Private  160323  Some-college               10  Married-civ-spouse   \n",
            "4   18          ?  103497  Some-college               10       Never-married   \n",
            "\n",
            "          occupation relationship   race  gender  capital-gain  capital-loss  \\\n",
            "0  Machine-op-inspct    Own-child  Black    Male             0             0   \n",
            "1    Farming-fishing      Husband  White    Male             0             0   \n",
            "2    Protective-serv      Husband  White    Male             0             0   \n",
            "3  Machine-op-inspct      Husband  Black    Male          7688             0   \n",
            "4                  ?    Own-child  White  Female             0             0   \n",
            "\n",
            "   hours-per-week native-country income  income_binary age_group  \n",
            "0              40  United-States  <=50K              0     Youth  \n",
            "1              50  United-States  <=50K              0     Adult  \n",
            "2              40  United-States   >50K              1     Youth  \n",
            "3              40  United-States   >50K              1     Adult  \n",
            "4              30  United-States  <=50K              0     Youth  \n"
          ]
        }
      ]
    },
    {
      "cell_type": "markdown",
      "source": [
        "Rename the 'educational-num' column to 'education_num'."
      ],
      "metadata": {
        "id": "lQE44AW5Ref1"
      }
    },
    {
      "cell_type": "code",
      "source": [
        "df.rename(columns = {'educational-num': 'educational_num'}, inplace = True)\n",
        "print(df.head())"
      ],
      "metadata": {
        "id": "jW0Ml7yCRkhm",
        "colab": {
          "base_uri": "https://localhost:8080/"
        },
        "outputId": "71d0c4d1-23ef-46ac-c443-61164bc27460"
      },
      "execution_count": 35,
      "outputs": [
        {
          "output_type": "stream",
          "name": "stdout",
          "text": [
            "   age  workclass  fnlwgt     education  educational_num      marital-status  \\\n",
            "0   25    Private  226802          11th                7       Never-married   \n",
            "1   38    Private   89814       HS-grad                9  Married-civ-spouse   \n",
            "2   28  Local-gov  336951    Assoc-acdm               12  Married-civ-spouse   \n",
            "3   44    Private  160323  Some-college               10  Married-civ-spouse   \n",
            "4   18          ?  103497  Some-college               10       Never-married   \n",
            "\n",
            "          occupation relationship   race  gender  capital-gain  capital-loss  \\\n",
            "0  Machine-op-inspct    Own-child  Black    Male             0             0   \n",
            "1    Farming-fishing      Husband  White    Male             0             0   \n",
            "2    Protective-serv      Husband  White    Male             0             0   \n",
            "3  Machine-op-inspct      Husband  Black    Male          7688             0   \n",
            "4                  ?    Own-child  White  Female             0             0   \n",
            "\n",
            "   hours-per-week native-country income  income_binary age_group  \n",
            "0              40  United-States  <=50K              0     Youth  \n",
            "1              50  United-States  <=50K              0     Adult  \n",
            "2              40  United-States   >50K              1     Youth  \n",
            "3              40  United-States   >50K              1     Adult  \n",
            "4              30  United-States  <=50K              0     Youth  \n"
          ]
        }
      ]
    },
    {
      "cell_type": "markdown",
      "source": [
        "Replace the missing values represented by '?' in 'workclass' and 'occupation' columns with 'Unknown'."
      ],
      "metadata": {
        "id": "QZnM8h18Rk2m"
      }
    },
    {
      "cell_type": "code",
      "source": [
        "df['workclass'] = df['workclass'].replace('?', 'unknown')\n",
        "df['occupation'] = df['Unknown'].replace('?', 'Unknown')\n",
        "\n",
        "print(df.head())"
      ],
      "metadata": {
        "id": "OMykaJ26Rvdz",
        "colab": {
          "base_uri": "https://localhost:8080/",
          "height": 547
        },
        "outputId": "bf2b6bae-2342-4144-df7f-a800bc25bb40"
      },
      "execution_count": 37,
      "outputs": [
        {
          "output_type": "error",
          "ename": "KeyError",
          "evalue": "'Unknown'",
          "traceback": [
            "\u001b[0;31m---------------------------------------------------------------------------\u001b[0m",
            "\u001b[0;31mKeyError\u001b[0m                                  Traceback (most recent call last)",
            "\u001b[0;32m/usr/local/lib/python3.10/dist-packages/pandas/core/indexes/base.py\u001b[0m in \u001b[0;36mget_loc\u001b[0;34m(self, key)\u001b[0m\n\u001b[1;32m   3790\u001b[0m         \u001b[0;32mtry\u001b[0m\u001b[0;34m:\u001b[0m\u001b[0;34m\u001b[0m\u001b[0;34m\u001b[0m\u001b[0m\n\u001b[0;32m-> 3791\u001b[0;31m             \u001b[0;32mreturn\u001b[0m \u001b[0mself\u001b[0m\u001b[0;34m.\u001b[0m\u001b[0m_engine\u001b[0m\u001b[0;34m.\u001b[0m\u001b[0mget_loc\u001b[0m\u001b[0;34m(\u001b[0m\u001b[0mcasted_key\u001b[0m\u001b[0;34m)\u001b[0m\u001b[0;34m\u001b[0m\u001b[0;34m\u001b[0m\u001b[0m\n\u001b[0m\u001b[1;32m   3792\u001b[0m         \u001b[0;32mexcept\u001b[0m \u001b[0mKeyError\u001b[0m \u001b[0;32mas\u001b[0m \u001b[0merr\u001b[0m\u001b[0;34m:\u001b[0m\u001b[0;34m\u001b[0m\u001b[0;34m\u001b[0m\u001b[0m\n",
            "\u001b[0;32mindex.pyx\u001b[0m in \u001b[0;36mpandas._libs.index.IndexEngine.get_loc\u001b[0;34m()\u001b[0m\n",
            "\u001b[0;32mindex.pyx\u001b[0m in \u001b[0;36mpandas._libs.index.IndexEngine.get_loc\u001b[0;34m()\u001b[0m\n",
            "\u001b[0;32mpandas/_libs/hashtable_class_helper.pxi\u001b[0m in \u001b[0;36mpandas._libs.hashtable.PyObjectHashTable.get_item\u001b[0;34m()\u001b[0m\n",
            "\u001b[0;32mpandas/_libs/hashtable_class_helper.pxi\u001b[0m in \u001b[0;36mpandas._libs.hashtable.PyObjectHashTable.get_item\u001b[0;34m()\u001b[0m\n",
            "\u001b[0;31mKeyError\u001b[0m: 'Unknown'",
            "\nThe above exception was the direct cause of the following exception:\n",
            "\u001b[0;31mKeyError\u001b[0m                                  Traceback (most recent call last)",
            "\u001b[0;32m<ipython-input-37-eebd754aa5d6>\u001b[0m in \u001b[0;36m<cell line: 2>\u001b[0;34m()\u001b[0m\n\u001b[1;32m      1\u001b[0m \u001b[0mdf\u001b[0m\u001b[0;34m[\u001b[0m\u001b[0;34m'workclass'\u001b[0m\u001b[0;34m]\u001b[0m \u001b[0;34m=\u001b[0m \u001b[0mdf\u001b[0m\u001b[0;34m[\u001b[0m\u001b[0;34m'workclass'\u001b[0m\u001b[0;34m]\u001b[0m\u001b[0;34m.\u001b[0m\u001b[0mreplace\u001b[0m\u001b[0;34m(\u001b[0m\u001b[0;34m'?'\u001b[0m\u001b[0;34m,\u001b[0m \u001b[0;34m'unknown'\u001b[0m\u001b[0;34m)\u001b[0m\u001b[0;34m\u001b[0m\u001b[0;34m\u001b[0m\u001b[0m\n\u001b[0;32m----> 2\u001b[0;31m \u001b[0mdf\u001b[0m\u001b[0;34m[\u001b[0m\u001b[0;34m'occupation'\u001b[0m\u001b[0;34m]\u001b[0m \u001b[0;34m=\u001b[0m \u001b[0mdf\u001b[0m\u001b[0;34m[\u001b[0m\u001b[0;34m'Unknown'\u001b[0m\u001b[0;34m]\u001b[0m\u001b[0;34m.\u001b[0m\u001b[0mreplace\u001b[0m\u001b[0;34m(\u001b[0m\u001b[0;34m'?'\u001b[0m\u001b[0;34m,\u001b[0m \u001b[0;34m'Unknown'\u001b[0m\u001b[0;34m)\u001b[0m\u001b[0;34m\u001b[0m\u001b[0;34m\u001b[0m\u001b[0m\n\u001b[0m\u001b[1;32m      3\u001b[0m \u001b[0;34m\u001b[0m\u001b[0m\n\u001b[1;32m      4\u001b[0m \u001b[0mprint\u001b[0m\u001b[0;34m(\u001b[0m\u001b[0mdf\u001b[0m\u001b[0;34m.\u001b[0m\u001b[0mhead\u001b[0m\u001b[0;34m(\u001b[0m\u001b[0;34m)\u001b[0m\u001b[0;34m)\u001b[0m\u001b[0;34m\u001b[0m\u001b[0;34m\u001b[0m\u001b[0m\n",
            "\u001b[0;32m/usr/local/lib/python3.10/dist-packages/pandas/core/frame.py\u001b[0m in \u001b[0;36m__getitem__\u001b[0;34m(self, key)\u001b[0m\n\u001b[1;32m   3891\u001b[0m             \u001b[0;32mif\u001b[0m \u001b[0mself\u001b[0m\u001b[0;34m.\u001b[0m\u001b[0mcolumns\u001b[0m\u001b[0;34m.\u001b[0m\u001b[0mnlevels\u001b[0m \u001b[0;34m>\u001b[0m \u001b[0;36m1\u001b[0m\u001b[0;34m:\u001b[0m\u001b[0;34m\u001b[0m\u001b[0;34m\u001b[0m\u001b[0m\n\u001b[1;32m   3892\u001b[0m                 \u001b[0;32mreturn\u001b[0m \u001b[0mself\u001b[0m\u001b[0;34m.\u001b[0m\u001b[0m_getitem_multilevel\u001b[0m\u001b[0;34m(\u001b[0m\u001b[0mkey\u001b[0m\u001b[0;34m)\u001b[0m\u001b[0;34m\u001b[0m\u001b[0;34m\u001b[0m\u001b[0m\n\u001b[0;32m-> 3893\u001b[0;31m             \u001b[0mindexer\u001b[0m \u001b[0;34m=\u001b[0m \u001b[0mself\u001b[0m\u001b[0;34m.\u001b[0m\u001b[0mcolumns\u001b[0m\u001b[0;34m.\u001b[0m\u001b[0mget_loc\u001b[0m\u001b[0;34m(\u001b[0m\u001b[0mkey\u001b[0m\u001b[0;34m)\u001b[0m\u001b[0;34m\u001b[0m\u001b[0;34m\u001b[0m\u001b[0m\n\u001b[0m\u001b[1;32m   3894\u001b[0m             \u001b[0;32mif\u001b[0m \u001b[0mis_integer\u001b[0m\u001b[0;34m(\u001b[0m\u001b[0mindexer\u001b[0m\u001b[0;34m)\u001b[0m\u001b[0;34m:\u001b[0m\u001b[0;34m\u001b[0m\u001b[0;34m\u001b[0m\u001b[0m\n\u001b[1;32m   3895\u001b[0m                 \u001b[0mindexer\u001b[0m \u001b[0;34m=\u001b[0m \u001b[0;34m[\u001b[0m\u001b[0mindexer\u001b[0m\u001b[0;34m]\u001b[0m\u001b[0;34m\u001b[0m\u001b[0;34m\u001b[0m\u001b[0m\n",
            "\u001b[0;32m/usr/local/lib/python3.10/dist-packages/pandas/core/indexes/base.py\u001b[0m in \u001b[0;36mget_loc\u001b[0;34m(self, key)\u001b[0m\n\u001b[1;32m   3796\u001b[0m             ):\n\u001b[1;32m   3797\u001b[0m                 \u001b[0;32mraise\u001b[0m \u001b[0mInvalidIndexError\u001b[0m\u001b[0;34m(\u001b[0m\u001b[0mkey\u001b[0m\u001b[0;34m)\u001b[0m\u001b[0;34m\u001b[0m\u001b[0;34m\u001b[0m\u001b[0m\n\u001b[0;32m-> 3798\u001b[0;31m             \u001b[0;32mraise\u001b[0m \u001b[0mKeyError\u001b[0m\u001b[0;34m(\u001b[0m\u001b[0mkey\u001b[0m\u001b[0;34m)\u001b[0m \u001b[0;32mfrom\u001b[0m \u001b[0merr\u001b[0m\u001b[0;34m\u001b[0m\u001b[0;34m\u001b[0m\u001b[0m\n\u001b[0m\u001b[1;32m   3799\u001b[0m         \u001b[0;32mexcept\u001b[0m \u001b[0mTypeError\u001b[0m\u001b[0;34m:\u001b[0m\u001b[0;34m\u001b[0m\u001b[0;34m\u001b[0m\u001b[0m\n\u001b[1;32m   3800\u001b[0m             \u001b[0;31m# If we have a listlike key, _check_indexing_error will raise\u001b[0m\u001b[0;34m\u001b[0m\u001b[0;34m\u001b[0m\u001b[0m\n",
            "\u001b[0;31mKeyError\u001b[0m: 'Unknown'"
          ]
        }
      ]
    },
    {
      "cell_type": "markdown",
      "source": [
        "Calculate the average age for each workclass."
      ],
      "metadata": {
        "id": "Q0rERJfv9eWq"
      }
    },
    {
      "cell_type": "code",
      "source": [],
      "metadata": {
        "id": "i1aC5SSW9f5g"
      },
      "execution_count": null,
      "outputs": []
    },
    {
      "cell_type": "markdown",
      "source": [
        "Find the total capital-gain for each gender."
      ],
      "metadata": {
        "id": "RI77BsjkRxaj"
      }
    },
    {
      "cell_type": "code",
      "source": [],
      "metadata": {
        "id": "Fy6MdoLLR1sw"
      },
      "execution_count": null,
      "outputs": []
    },
    {
      "cell_type": "markdown",
      "source": [
        "Get the count of each marital-status category."
      ],
      "metadata": {
        "id": "nRIhYKEURrLO"
      }
    },
    {
      "cell_type": "code",
      "source": [],
      "metadata": {
        "id": "1maOMDw4R5UK"
      },
      "execution_count": null,
      "outputs": []
    },
    {
      "cell_type": "markdown",
      "source": [
        "Find the mean hours-per-week worked by individuals in different education levels."
      ],
      "metadata": {
        "id": "c31zHtUjR5qo"
      }
    },
    {
      "cell_type": "code",
      "source": [],
      "metadata": {
        "id": "2L4CvtUyR8Fi"
      },
      "execution_count": null,
      "outputs": []
    },
    {
      "cell_type": "markdown",
      "source": [
        "Calculate the mean, median, and standard deviation of 'fnlwgt' for each race."
      ],
      "metadata": {
        "id": "4qloBOBRR8Xj"
      }
    },
    {
      "cell_type": "code",
      "source": [],
      "metadata": {
        "id": "tvmvGXFBR_AG"
      },
      "execution_count": null,
      "outputs": []
    },
    {
      "cell_type": "markdown",
      "source": [
        "Get the unique values and their counts for the 'native-country' column"
      ],
      "metadata": {
        "id": "dEGRU01lR_2X"
      }
    },
    {
      "cell_type": "code",
      "source": [],
      "metadata": {
        "id": "pxp2d2JTSE1q"
      },
      "execution_count": null,
      "outputs": []
    },
    {
      "cell_type": "markdown",
      "source": [
        "Filter the dataset to include only individuals with income >50K."
      ],
      "metadata": {
        "id": "fr_Lg7kzUClD"
      }
    },
    {
      "cell_type": "code",
      "source": [],
      "metadata": {
        "id": "WsyyQR9fUDn5"
      },
      "execution_count": null,
      "outputs": []
    },
    {
      "cell_type": "markdown",
      "source": [
        "Sort the dataset by age in descending order."
      ],
      "metadata": {
        "id": "19-aDl96UD9x"
      }
    },
    {
      "cell_type": "code",
      "source": [],
      "metadata": {
        "id": "dt_BdbMfUIQx"
      },
      "execution_count": null,
      "outputs": []
    },
    {
      "cell_type": "markdown",
      "source": [
        "Filter the dataset to include only individuals who work more than 40 hours per week.\n",
        "\n"
      ],
      "metadata": {
        "id": "aHuVJpuWUHj6"
      }
    },
    {
      "cell_type": "code",
      "source": [],
      "metadata": {
        "id": "H8-HcaOwWeTE"
      },
      "execution_count": null,
      "outputs": []
    },
    {
      "cell_type": "code",
      "source": [
        "Calculate the percentage of missing values in each column."
      ],
      "metadata": {
        "id": "7ROe3CCRWmB1"
      },
      "execution_count": null,
      "outputs": []
    },
    {
      "cell_type": "code",
      "source": [],
      "metadata": {
        "id": "JZMPlZG6WnNN"
      },
      "execution_count": null,
      "outputs": []
    },
    {
      "cell_type": "markdown",
      "source": [
        "Calculate the median income by education level and gender."
      ],
      "metadata": {
        "id": "UNXEa2PdWnrx"
      }
    },
    {
      "cell_type": "code",
      "source": [],
      "metadata": {
        "id": "OOwioDK6WwlN"
      },
      "execution_count": null,
      "outputs": []
    },
    {
      "cell_type": "markdown",
      "source": [
        "Find the top 3 occupations with the highest average capital-gain."
      ],
      "metadata": {
        "id": "gWX7xURdWymB"
      }
    },
    {
      "cell_type": "code",
      "source": [],
      "metadata": {
        "id": "r0KetkkoXAeD"
      },
      "execution_count": null,
      "outputs": []
    },
    {
      "cell_type": "markdown",
      "source": [
        "Filter the dataset to include individuals who are 'Married-civ-spouse' and have an income >50K."
      ],
      "metadata": {
        "id": "7A9gkvQsXGO_"
      }
    },
    {
      "cell_type": "code",
      "source": [],
      "metadata": {
        "id": "x97bC-MPXHGP"
      },
      "execution_count": null,
      "outputs": []
    }
  ]
}