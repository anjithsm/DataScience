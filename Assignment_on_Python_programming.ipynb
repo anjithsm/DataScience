{
  "nbformat": 4,
  "nbformat_minor": 0,
  "metadata": {
    "colab": {
      "provenance": [],
      "include_colab_link": true
    },
    "kernelspec": {
      "name": "python3",
      "display_name": "Python 3"
    },
    "language_info": {
      "name": "python"
    }
  },
  "cells": [
    {
      "cell_type": "markdown",
      "metadata": {
        "id": "view-in-github",
        "colab_type": "text"
      },
      "source": [
        "<a href=\"https://colab.research.google.com/github/anjithsm/DataScience/blob/main/Assignment_on_Python_programming.ipynb\" target=\"_parent\"><img src=\"https://colab.research.google.com/assets/colab-badge.svg\" alt=\"Open In Colab\"/></a>"
      ]
    },
    {
      "cell_type": "markdown",
      "source": [
        "# ***Python Practise Problems***"
      ],
      "metadata": {
        "id": "9gia2g4vSkH2"
      }
    },
    {
      "cell_type": "markdown",
      "source": [
        "**1.Write a Python program which accepts the radius of a circle from the user\n",
        "and compute the area.\n",
        "Sample input: Enter the radius: 3  \n",
        "Sample output: Area of Circle is 28.59999999999**"
      ],
      "metadata": {
        "id": "gKHctqQKS5uW"
      }
    },
    {
      "cell_type": "code",
      "execution_count": null,
      "metadata": {
        "colab": {
          "base_uri": "https://localhost:8080/"
        },
        "id": "vL6N4ai2Sefy",
        "outputId": "d8ccf24b-8f5e-4202-9465-c0e690b20525"
      },
      "outputs": [
        {
          "output_type": "stream",
          "name": "stdout",
          "text": [
            "Enter the radius:3\n",
            "Area of Circle is 28.26\n"
          ]
        }
      ],
      "source": [
        "a=float(input(\"Enter the radius:\"))\n",
        "area=3.14*a**2\n",
        "print(\"Area of Circle is\",area)"
      ]
    },
    {
      "cell_type": "markdown",
      "source": [
        "**2.Write a Python Program to accept the details of a student like name, roll\n",
        "number and mark and display it.\n",
        "Sample input:  \n",
        "Enter the name: Anisha\n",
        "Enter the roll number: 21\n",
        "Enter the mark: 78\n",
        "Sample output:  Name: Anisha\n",
        "Roll No: 21\n",
        "Mark: 78**"
      ],
      "metadata": {
        "id": "QIzOsDKlTpaT"
      }
    },
    {
      "cell_type": "code",
      "source": [
        "name=input(\"Enter the Nmae:\")\n",
        "roll_number=input(\"Enter the roll number:\")\n",
        "mark=input(\"Enter the marks:\")\n",
        "\n",
        "print(\"Name: \", name)\n",
        "print(\"Roll No: \",roll_number)\n",
        "print(\"Mark: \", mark)"
      ],
      "metadata": {
        "colab": {
          "base_uri": "https://localhost:8080/"
        },
        "id": "Nd-xUA3YTWzZ",
        "outputId": "3fe95279-98c0-4292-f18e-c879d2f2bb18"
      },
      "execution_count": null,
      "outputs": [
        {
          "output_type": "stream",
          "name": "stdout",
          "text": [
            "Enter the Nmae:Anisha\n",
            "Enter the roll number:21\n",
            "Enter the marks:78\n",
            "Name:  Anisha\n",
            "Roll No:  21\n",
            "Mark:  78\n"
          ]
        }
      ]
    },
    {
      "cell_type": "markdown",
      "source": [
        "**3. Write a Python program to get the largest number from a list.\n",
        "Sample input: 12, 3, 47, 10\n",
        "Sample output: 47 is the largest number.**"
      ],
      "metadata": {
        "id": "G1ysB0N6UrIb"
      }
    },
    {
      "cell_type": "code",
      "source": [
        "def find_largest_number(numbers):\n",
        "    largest = numbers[0]\n",
        "    for number in numbers:\n",
        "        if number > largest:\n",
        "            largest = number\n",
        "    return largest\n",
        "numbers = [12, 3, 47, 10]\n",
        "\n",
        "largest_number = find_largest_number(numbers)\n",
        "\n",
        "\n",
        "print(largest_number,\"is the largest number\")\n"
      ],
      "metadata": {
        "colab": {
          "base_uri": "https://localhost:8080/"
        },
        "id": "w2iVsb4IUasF",
        "outputId": "996c38b6-c97c-4ff4-fedf-a0c04e340b25"
      },
      "execution_count": null,
      "outputs": [
        {
          "output_type": "stream",
          "name": "stdout",
          "text": [
            "47 is the largest number\n"
          ]
        }
      ]
    },
    {
      "cell_type": "markdown",
      "source": [
        "**4.Given a range of first 10 numbers, write a Python program to iterate from\n",
        "start number to the end number and print the sum of the current number\n",
        "and previous number.  \n",
        "Sample input: 1….10  \n",
        "Sample output: Current Number 1 Previous Number 0 Sum: 1 Current\n",
        "Number 2 Previous Number 1 Sum: 3 Current Number 3 Previous\n",
        "Number 2 Sum: 5… Current Number 10 Previous Number 9 Sum: 19**"
      ],
      "metadata": {
        "id": "B4qNcsvnZIBr"
      }
    },
    {
      "cell_type": "code",
      "source": [
        "previous_number = 0\n",
        "\n",
        "for current_number in range(1, 11):\n",
        "    sum_numbers = current_number + previous_number\n",
        "\n",
        "    print(f\"Current Number {current_number} Previous Number {previous_number} Sum: {sum_numbers}\")\n",
        "\n",
        "    previous_number = current_number\n",
        "\n"
      ],
      "metadata": {
        "colab": {
          "base_uri": "https://localhost:8080/"
        },
        "id": "MpWhGUnCY5NG",
        "outputId": "f129b635-fcaa-40ac-a474-6145d3b8e276"
      },
      "execution_count": null,
      "outputs": [
        {
          "output_type": "stream",
          "name": "stdout",
          "text": [
            "Current Number 1 Previous Number 0 Sum: 1\n",
            "Current Number 2 Previous Number 1 Sum: 3\n",
            "Current Number 3 Previous Number 2 Sum: 5\n",
            "Current Number 4 Previous Number 3 Sum: 7\n",
            "Current Number 5 Previous Number 4 Sum: 9\n",
            "Current Number 6 Previous Number 5 Sum: 11\n",
            "Current Number 7 Previous Number 6 Sum: 13\n",
            "Current Number 8 Previous Number 7 Sum: 15\n",
            "Current Number 9 Previous Number 8 Sum: 17\n",
            "Current Number 10 Previous Number 9 Sum: 19\n"
          ]
        }
      ]
    },
    {
      "cell_type": "markdown",
      "source": [
        "**5.Write a Python program to print only those numbers which are divisible\n",
        "of 5.  \n",
        "Sample input: 10, 20,33,46,55    Sample output: 10, 20, 55**"
      ],
      "metadata": {
        "id": "qjK4Zbt3bNRC"
      }
    },
    {
      "cell_type": "code",
      "source": [
        "numbers_string = input(\"Enter numbers separated by commas: \")\n",
        "current_number = \"\"\n",
        "index = 0\n",
        "while index < len(numbers_string):\n",
        "    char = numbers_string[index]\n",
        "    if char == ',':\n",
        "        number = float(current_number)\n",
        "        if number % 5 == 0:\n",
        "            print(int(number), end=\", \")\n",
        "        current_number = \"\"\n",
        "    else:\n",
        "        current_number += char\n",
        "    index += 1\n",
        "\n",
        "if current_number:\n",
        "    number = float(current_number)\n",
        "    if number % 5 == 0:\n",
        "        print(int(number))\n"
      ],
      "metadata": {
        "colab": {
          "base_uri": "https://localhost:8080/"
        },
        "id": "Mh31eU2HaL6V",
        "outputId": "18f6e9bc-8fa5-453b-d798-732230cdcada"
      },
      "execution_count": null,
      "outputs": [
        {
          "output_type": "stream",
          "name": "stdout",
          "text": [
            "Enter numbers separated by commas: 10,20,33,46,55\n",
            "10, 20, 55\n"
          ]
        }
      ]
    },
    {
      "cell_type": "markdown",
      "source": [
        "**6.Write a Python program to check whether a number is prime or not.\n",
        "Sample input: Enter the number: 3  \n",
        "Sample output: 3 is a prime number.**"
      ],
      "metadata": {
        "id": "xn3vb6pdf6Oc"
      }
    },
    {
      "cell_type": "code",
      "source": [
        "number = int(input(\"Enter the number: \"))\n",
        "if number > 1:\n",
        "    for i in range(2, number):\n",
        "        if (number % i) == 0:\n",
        "            print((number), \"is not a prime number.\")\n",
        "            break\n",
        "    else:\n",
        "        print((number),\" is a prime number.\")\n",
        "else:\n",
        "    print((number),\"is not a prime number.\")\n"
      ],
      "metadata": {
        "id": "fLhpdej1fzVN",
        "colab": {
          "base_uri": "https://localhost:8080/"
        },
        "outputId": "eb38a0c9-6a38-4255-a845-9ac1e1fffb62"
      },
      "execution_count": null,
      "outputs": [
        {
          "output_type": "stream",
          "name": "stdout",
          "text": [
            "Enter the number: 3\n",
            "3  is a prime number.\n"
          ]
        }
      ]
    },
    {
      "cell_type": "markdown",
      "source": [
        "**7. Write a Python program to reverse a list using for loop.  \n",
        "Sample input: 10,40,30,70  \n",
        "Sample output: 70,30,40,10**"
      ],
      "metadata": {
        "id": "YoYJvCMuhS7Y"
      }
    },
    {
      "cell_type": "code",
      "source": [
        "numbers_string = input(\"Enter numbers separated by commas: \")\n",
        "numbers = []\n",
        "current_number = \"\"\n",
        "index = 0\n",
        "\n",
        "while index < len(numbers_string):\n",
        "    char = numbers_string[index]\n",
        "    if char == ',':\n",
        "        numbers.append(int(current_number))\n",
        "        current_number = \"\"\n",
        "    else:\n",
        "        current_number += char\n",
        "    index += 1\n",
        "\n",
        "if current_number:\n",
        "    numbers.append(int(current_number))\n",
        "\n",
        "reversed_numbers = []\n",
        "\n",
        "for i in range(len(numbers) - 1, -1, -1):\n",
        "    reversed_numbers.append(numbers[i])\n",
        "\n",
        "print(\"Reversed list:\", \", \".join(map(str, reversed_numbers)))\n"
      ],
      "metadata": {
        "colab": {
          "base_uri": "https://localhost:8080/"
        },
        "id": "PLX0SW7ZggBj",
        "outputId": "fb39853e-59ff-49a5-eea5-c19be0a9f558"
      },
      "execution_count": null,
      "outputs": [
        {
          "output_type": "stream",
          "name": "stdout",
          "text": [
            "Enter numbers separated by commas: 45,55,69,\n",
            "Reversed list: 69, 55, 45\n"
          ]
        }
      ]
    },
    {
      "cell_type": "markdown",
      "source": [
        "**8.Write a Python program to print the following pattern.**\n",
        "*\n",
        "**\n",
        "***\n",
        "****\n"
      ],
      "metadata": {
        "id": "Hz7rV2FIh66b"
      }
    },
    {
      "cell_type": "code",
      "source": [
        "rows = 4\n",
        "\n",
        "for i in range(1, rows + 1):\n",
        "    print('*' * i)\n"
      ],
      "metadata": {
        "colab": {
          "base_uri": "https://localhost:8080/"
        },
        "id": "3XGQ8tZ8h0Ib",
        "outputId": "bd489861-73ab-4918-ea13-6cbea0130b76"
      },
      "execution_count": null,
      "outputs": [
        {
          "output_type": "stream",
          "name": "stdout",
          "text": [
            "*\n",
            "**\n",
            "***\n",
            "****\n"
          ]
        }
      ]
    },
    {
      "cell_type": "markdown",
      "source": [
        "**9.Write a Python program to find the maximum of three numbers  \n",
        "Sample input: 34,12,7  \n",
        "Sample output: 34**"
      ],
      "metadata": {
        "id": "458gKTLgide7"
      }
    },
    {
      "cell_type": "code",
      "source": [
        "a = float(input(\"Enter the first number: \"))\n",
        "b = float(input(\"Enter the second number: \"))\n",
        "c = float(input(\"Enter the third number: \"))\n",
        "\n",
        "if (a>= b) and (a >= c):\n",
        "    largest = a\n",
        "elif (b >= a) and (b >= c):\n",
        "    largest = b\n",
        "else:\n",
        "    largest = c\n",
        "\n",
        "print(\"The largest number is :\",(largest))\n"
      ],
      "metadata": {
        "colab": {
          "base_uri": "https://localhost:8080/"
        },
        "id": "968KQ2kkihpG",
        "outputId": "3f3bed71-a8d8-4133-93dd-d5d5b5aa6879"
      },
      "execution_count": null,
      "outputs": [
        {
          "output_type": "stream",
          "name": "stdout",
          "text": [
            "Enter the first number: 45\n",
            "Enter the second number: 88\n",
            "Enter the third number: 96\n",
            "The largest number is : 96.0\n"
          ]
        }
      ]
    },
    {
      "cell_type": "markdown",
      "source": [
        "**10.  Write a Python program to construct the following pattern, using a\n",
        "nested for loop.**\n",
        "*\n",
        "***\n",
        "****\n",
        "*****\n",
        "****\n",
        "***\n",
        "**\n",
        "*"
      ],
      "metadata": {
        "id": "3aYh1TWYjfz-"
      }
    },
    {
      "cell_type": "code",
      "source": [
        "rows = 5\n",
        "\n",
        "for i in range(1, rows + 1):\n",
        "    print('*' * i)\n",
        "for i in range(rows - 1, 0, -1):\n",
        "    print('*' * i)\n",
        "\n",
        "\n"
      ],
      "metadata": {
        "colab": {
          "base_uri": "https://localhost:8080/"
        },
        "id": "70qhAxqljCZJ",
        "outputId": "50829579-20fc-460e-a175-4c1d79885cf1"
      },
      "execution_count": null,
      "outputs": [
        {
          "output_type": "stream",
          "name": "stdout",
          "text": [
            "*\n",
            "**\n",
            "***\n",
            "****\n",
            "*****\n",
            "****\n",
            "***\n",
            "**\n",
            "*\n"
          ]
        }
      ]
    },
    {
      "cell_type": "markdown",
      "source": [
        "# ***Practise Problems 2***"
      ],
      "metadata": {
        "id": "aYg-6x2Nq9fc"
      }
    },
    {
      "cell_type": "markdown",
      "source": [
        "**1.Write a Python program to accept a string value from the user and display\n",
        "the count of each character in that string. Sample input: Enter a string\n",
        "value: assembly Sample output: a=1, s=2, e=1, m=1, b=1, l=1, y=1**"
      ],
      "metadata": {
        "id": "mZqUnR0Srjle"
      }
    },
    {
      "cell_type": "code",
      "source": [
        "def count_characters(string):\n",
        "    char_count = {}\n",
        "    for char in string:\n",
        "        if char in char_count:\n",
        "            char_count[char] += 1\n",
        "        else:\n",
        "            char_count[char] = 1\n",
        "    output = ', '.join([f\"{char}={count}\" for char, count in char_count.items()])\n",
        "    return output\n",
        "\n",
        "user_input = input(\"Enter a string value: \")\n",
        "print(count_characters(user_input))\n"
      ],
      "metadata": {
        "colab": {
          "base_uri": "https://localhost:8080/"
        },
        "id": "QrP1z8VYYH6-",
        "outputId": "d78bd2b1-fafc-4cee-806f-3711a23a5ff0"
      },
      "execution_count": null,
      "outputs": [
        {
          "output_type": "stream",
          "name": "stdout",
          "text": [
            "Enter a string value: assembly\n",
            "a=1, s=2, e=1, m=1, b=1, l=1, y=1\n"
          ]
        }
      ]
    },
    {
      "cell_type": "markdown",
      "source": [
        "**2.Write a Python function to find the maximum of three numbers Sample\n",
        "input: 34,12,7 Sample output: 34**"
      ],
      "metadata": {
        "id": "EKkrZl0QsEMU"
      }
    },
    {
      "cell_type": "code",
      "source": [
        "def find_max_of_three(a,b,c):\n",
        "    if a>= b and a >= c:\n",
        "        return a\n",
        "    elif b >= a and b >= c:\n",
        "        return b\n",
        "    else:\n",
        "        return c\n",
        "\n"
      ],
      "metadata": {
        "id": "g0zKcobwjv2z"
      },
      "execution_count": null,
      "outputs": []
    },
    {
      "cell_type": "code",
      "source": [
        "a, b, c = 34, 12, 7\n",
        "print(find_max_of_three(a, b, c))"
      ],
      "metadata": {
        "colab": {
          "base_uri": "https://localhost:8080/"
        },
        "id": "dLKfPEz0sdrO",
        "outputId": "b04835bb-8740-45af-ae2b-71bd35882003"
      },
      "execution_count": null,
      "outputs": [
        {
          "output_type": "stream",
          "name": "stdout",
          "text": [
            "34\n"
          ]
        }
      ]
    },
    {
      "cell_type": "markdown",
      "source": [
        "**3. Write a Python function called exponent(base,exp) that returns an\n",
        "integer value of base raises to the power of exp. Sample input: Enter the\n",
        "base: 2 Enter the exponent: 3 Sample output: 8**"
      ],
      "metadata": {
        "id": "qTnO3WkHsrQv"
      }
    },
    {
      "cell_type": "code",
      "source": [
        "def exponent(base, exp):\n",
        "    result = 1\n",
        "    for char in range(exp):\n",
        "        result *= base\n",
        "    return result\n",
        "\n"
      ],
      "metadata": {
        "id": "e9A_NyDpsew1"
      },
      "execution_count": null,
      "outputs": []
    },
    {
      "cell_type": "code",
      "source": [
        "base = int(input(\"Enter the base: \"))\n",
        "exp = int(input(\"Enter the exponent: \"))\n",
        "print(exponent(base, exp))"
      ],
      "metadata": {
        "colab": {
          "base_uri": "https://localhost:8080/"
        },
        "id": "FDml0yjQt0xk",
        "outputId": "10e438b9-06d2-4fdd-f199-0c42d0f63251"
      },
      "execution_count": null,
      "outputs": [
        {
          "output_type": "stream",
          "name": "stdout",
          "text": [
            "Enter the base: 2\n",
            "Enter the exponent: 2\n",
            "4\n"
          ]
        }
      ]
    },
    {
      "cell_type": "markdown",
      "source": [
        "**4.Write a Python function that takes a positive integer and returns the sum\n",
        "of the cube of all the positive integers smaller than the specified number.\n",
        "Sample input: 4 Sample output: 36.**"
      ],
      "metadata": {
        "id": "f0NWMTweuE4d"
      }
    },
    {
      "cell_type": "code",
      "source": [
        "def sum(a):\n",
        "    total = 0\n",
        "    for i in range(1, a):\n",
        "        total += i ** 3\n",
        "    return total"
      ],
      "metadata": {
        "id": "OINj7KW6t9Z9"
      },
      "execution_count": null,
      "outputs": []
    },
    {
      "cell_type": "code",
      "source": [
        "integer = 5\n",
        "print(sum(integer))"
      ],
      "metadata": {
        "colab": {
          "base_uri": "https://localhost:8080/"
        },
        "id": "NLONsykfuYN8",
        "outputId": "646ad2a6-df7f-4083-e023-aafedab62c3e"
      },
      "execution_count": null,
      "outputs": [
        {
          "output_type": "stream",
          "name": "stdout",
          "text": [
            "100\n"
          ]
        }
      ]
    },
    {
      "cell_type": "markdown",
      "source": [
        "**5.Write a Python program which iterates from 1 to 10. For multiples of 2,\n",
        "print “Fizz” instead of the number and for the multiples of 5, print “Buzz”.\n",
        "For numbers which are multiples of both 2 and 5, print “FizzBuzz”.\n",
        "Sample input: numbers from 1 to 10 Sample output: 1 Fizz 3 Fizz Buzz\n",
        "Fizz 7 Fizz 9 FizzBuzz**"
      ],
      "metadata": {
        "id": "_VJMdf8cu3Hm"
      }
    },
    {
      "cell_type": "code",
      "source": [
        "for i in range(1, 11):\n",
        "    if i % 2 == 0 and i % 5 == 0:\n",
        "        print(\"FizzBuzz\", end=\" \")\n",
        "    elif i % 2 == 0:\n",
        "        print(\"Fizz\", end=\" \")\n",
        "    elif i % 5 == 0:\n",
        "        print(\"Buzz\", end=\" \")\n",
        "    else:\n",
        "        print(i, end=\" \")\n"
      ],
      "metadata": {
        "colab": {
          "base_uri": "https://localhost:8080/"
        },
        "id": "ZvYXmbu4uqr7",
        "outputId": "45f7db1e-7ae4-436f-9fc5-7cc04760fbcc"
      },
      "execution_count": null,
      "outputs": [
        {
          "output_type": "stream",
          "name": "stdout",
          "text": [
            "1 Fizz 3 Fizz Buzz Fizz 7 Fizz 9 FizzBuzz "
          ]
        }
      ]
    },
    {
      "cell_type": "markdown",
      "source": [
        "**6. Write a Python program to find the most frequent item in a list of\n",
        "numbers. Sample input: 2, 3, 4, 2, 5, 2 Sample output: 2**"
      ],
      "metadata": {
        "id": "zzqwCz1YwQqB"
      }
    },
    {
      "cell_type": "code",
      "source": [
        "def most_frequent(numbers):\n",
        "    frequency = {}\n",
        "    max_count = -1\n",
        "    most_frequent_num = None\n",
        "\n",
        "    for num in numbers:\n",
        "        if num in frequency:\n",
        "            frequency[num] += 1\n",
        "        else:\n",
        "            frequency[num] = 1\n",
        "\n",
        "        if frequency[num] > max_count:\n",
        "            max_count = frequency[num]\n",
        "            most_frequent_num = num\n",
        "\n",
        "    return most_frequent_num\n",
        "\n"
      ],
      "metadata": {
        "id": "T3rHLy0-aY_8"
      },
      "execution_count": null,
      "outputs": []
    },
    {
      "cell_type": "code",
      "source": [
        "numbers = [2, 3, 4, 2, 5, 2]\n",
        "print(most_frequent(numbers))\n"
      ],
      "metadata": {
        "colab": {
          "base_uri": "https://localhost:8080/"
        },
        "id": "mEHKyigqajn4",
        "outputId": "36572185-0582-4c9c-cfa0-2191c9c2be17"
      },
      "execution_count": null,
      "outputs": [
        {
          "output_type": "stream",
          "name": "stdout",
          "text": [
            "2\n"
          ]
        }
      ]
    },
    {
      "cell_type": "markdown",
      "source": [
        "**7.Write a Python program to find the sum of squares of the numbers in a\n",
        "list. Sample input: 2,1,3,1 Sample output: 15**"
      ],
      "metadata": {
        "id": "Nk-YTij0yJxf"
      }
    },
    {
      "cell_type": "code",
      "source": [
        "def sum_of_squares(a):\n",
        "    total = 0\n",
        "    for a in numbers:\n",
        "        total += a ** 2\n",
        "    return total\n",
        "\n"
      ],
      "metadata": {
        "id": "5etg6H0zwL7g"
      },
      "execution_count": null,
      "outputs": []
    },
    {
      "cell_type": "code",
      "source": [
        "[2,1,3,1]\n",
        "print(sum_of_squares(a))"
      ],
      "metadata": {
        "colab": {
          "base_uri": "https://localhost:8080/"
        },
        "id": "RW5eHDC2yWSk",
        "outputId": "2a775acc-e28d-4c15-f4ef-37ad1904c505"
      },
      "execution_count": null,
      "outputs": [
        {
          "output_type": "stream",
          "name": "stdout",
          "text": [
            "15\n"
          ]
        }
      ]
    },
    {
      "cell_type": "markdown",
      "source": [
        "**8.Write a Python program using for loop that will iterate from 1 to 15. For\n",
        "each iteration, check if the current number is odd or even, and display the\n",
        "message to the screen as odd or even. Sample input: 1….15 Sample\n",
        "output: 1-odd 2-even …. 15-odd**"
      ],
      "metadata": {
        "id": "RhpPWYsV1Jna"
      }
    },
    {
      "cell_type": "code",
      "source": [
        "for i in range(1, 16):\n",
        "    if i % 2 == 0:\n",
        "        print(f\"{i}-even\", end=\" \")\n",
        "    else:\n",
        "        print(f\"{i}-odd\", end=\" \")\n"
      ],
      "metadata": {
        "colab": {
          "base_uri": "https://localhost:8080/"
        },
        "id": "2ieoIoKd05aX",
        "outputId": "a38acaec-2ae0-4f97-92af-3a80feae4bf4"
      },
      "execution_count": null,
      "outputs": [
        {
          "output_type": "stream",
          "name": "stdout",
          "text": [
            "1-odd 2-even 3-odd 4-even 5-odd 6-even 7-odd 8-even 9-odd 10-even 11-odd 12-even 13-odd 14-even 15-odd "
          ]
        }
      ]
    },
    {
      "cell_type": "markdown",
      "source": [
        "**9.Write a Python program to convert temperatures to and from Celsius\n",
        "Fahrenheit. [Formula: c/5=f-32/9 where c=temperature in Celsius and f=\n",
        "temperature in Fahrenheit.] Sample input: Temperature in Fahrenheit\n",
        "=41 Sample output: Temperature in Celsius =5**"
      ],
      "metadata": {
        "id": "1329yxCs1Oid"
      }
    },
    {
      "cell_type": "code",
      "source": [
        "def fahrenheit_to_celsius(f):\n",
        "    return (f - 32) * 5 / 9\n",
        "\n",
        "def celsius_to_fahrenheit(c):\n",
        "    return (c * 9 / 5) + 32\n",
        "\n",
        "fahrenheit = float(input(\"Enter the temperature in Fahrenheit: \"))\n",
        "celsius = fahrenheit_to_celsius(fahrenheit)\n",
        "print(f\"Temperature in Celsius = {celsius:.2f}\")\n",
        "\n",
        "celsius = float(input(\"Enter the temperature in Celsius: \"))\n",
        "fahrenheit = celsius_to_fahrenheit(celsius)\n",
        "print(f\"Temperature in Fahrenheit = {fahrenheit:.2f}\")\n"
      ],
      "metadata": {
        "colab": {
          "base_uri": "https://localhost:8080/"
        },
        "id": "2EU6FsIf1NTh",
        "outputId": "72647fa7-5af4-40f9-bff3-0f015480534f"
      },
      "execution_count": null,
      "outputs": [
        {
          "output_type": "stream",
          "name": "stdout",
          "text": [
            "Enter the temperature in Fahrenheit: 55\n",
            "Temperature in Celsius = 12.78\n",
            "Enter the temperature in Celsius: 65\n",
            "Temperature in Fahrenheit = 149.00\n"
          ]
        }
      ]
    },
    {
      "cell_type": "markdown",
      "source": [
        "**10.Write a Python function to calculate the factorial of a number (a\n",
        "nonnegative integer). The function accepts the number as an argument.\n",
        "Sample input: 3 Sample output: 6**"
      ],
      "metadata": {
        "id": "5GkrMKyq1wjA"
      }
    },
    {
      "cell_type": "code",
      "source": [
        "def factorial(n):\n",
        "    if n == 0 or n == 1:\n",
        "        return 1\n",
        "    else:\n",
        "        result = 1\n",
        "        for i in range(2, n + 1):\n",
        "            result *= i\n",
        "        return result\n",
        "\n",
        "\n"
      ],
      "metadata": {
        "id": "tJ3cd3151pwO"
      },
      "execution_count": null,
      "outputs": []
    },
    {
      "cell_type": "code",
      "source": [
        "number = 3\n",
        "print(factorial(number))"
      ],
      "metadata": {
        "id": "UuR-DZRB2EDE",
        "outputId": "450c6e1d-eb4d-405c-bef6-a5216158a3fb",
        "colab": {
          "base_uri": "https://localhost:8080/"
        }
      },
      "execution_count": null,
      "outputs": [
        {
          "output_type": "stream",
          "name": "stdout",
          "text": [
            "6\n"
          ]
        }
      ]
    }
  ]
}